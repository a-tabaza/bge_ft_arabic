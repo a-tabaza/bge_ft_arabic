{
 "cells": [
  {
   "cell_type": "code",
   "execution_count": 1,
   "metadata": {},
   "outputs": [],
   "source": [
    "import pandas as pd\n",
    "import numpy as np\n",
    "from glob import glob\n",
    "from tqdm import tqdm\n",
    "tqdm.pandas()"
   ]
  },
  {
   "cell_type": "code",
   "execution_count": 2,
   "metadata": {},
   "outputs": [],
   "source": [
    "dfs = pd.concat([pd.read_parquet(f) for f in glob('similarity/*.parquet')])"
   ]
  },
  {
   "cell_type": "code",
   "execution_count": 3,
   "metadata": {},
   "outputs": [],
   "source": [
    "full_df = pd.read_parquet('data/ar-en-final-fuzzy-deduplicated.parquet')"
   ]
  },
  {
   "cell_type": "code",
   "execution_count": 8,
   "metadata": {},
   "outputs": [
    {
     "data": {
      "text/html": [
       "<div>\n",
       "<style scoped>\n",
       "    .dataframe tbody tr th:only-of-type {\n",
       "        vertical-align: middle;\n",
       "    }\n",
       "\n",
       "    .dataframe tbody tr th {\n",
       "        vertical-align: top;\n",
       "    }\n",
       "\n",
       "    .dataframe thead th {\n",
       "        text-align: right;\n",
       "    }\n",
       "</style>\n",
       "<table border=\"1\" class=\"dataframe\">\n",
       "  <thead>\n",
       "    <tr style=\"text-align: right;\">\n",
       "      <th></th>\n",
       "      <th>ar</th>\n",
       "      <th>en</th>\n",
       "      <th>en_translated</th>\n",
       "      <th>lang</th>\n",
       "    </tr>\n",
       "  </thead>\n",
       "  <tbody>\n",
       "    <tr>\n",
       "      <th>0</th>\n",
       "      <td>إلى ربها ناظرة: أي منتظرة لرحمته ودخول جنته.</td>\n",
       "      <td>He is sometimes seen having arguments with his...</td>\n",
       "      <td>Looking to her Lord: that is, waiting for His ...</td>\n",
       "      <td>en</td>\n",
       "    </tr>\n",
       "    <tr>\n",
       "      <th>3</th>\n",
       "      <td>النّعيم : الذي ألهاكم عن طاعة ربكم .</td>\n",
       "      <td>Thus hath the Lord your God commanded you.</td>\n",
       "      <td>Bliss: which distracts you from obeying your L...</td>\n",
       "      <td>en</td>\n",
       "    </tr>\n",
       "    <tr>\n",
       "      <th>8</th>\n",
       "      <td>ولو ذكروا الآخرة لفروا فرارا إلى جناب ربهم.”</td>\n",
       "      <td>Nevertheless when it shall turn to the Lord, t...</td>\n",
       "      <td>If they had mentioned the Hereafter, they woul...</td>\n",
       "      <td>en</td>\n",
       "    </tr>\n",
       "    <tr>\n",
       "      <th>14</th>\n",
       "      <td>ولا يشترطون أن يكون الحديث متواتراً، بل هم يعم...</td>\n",
       "      <td>They may not have speech but they have a lot t...</td>\n",
       "      <td>They do not stipulate that the hadith be mutaw...</td>\n",
       "      <td>en</td>\n",
       "    </tr>\n",
       "    <tr>\n",
       "      <th>23</th>\n",
       "      <td>بمعنى: أن الذي يقوم بأمرِ الدين تحليلاً، وتحري...</td>\n",
       "      <td>And it shall be for a sign, and for a witness ...</td>\n",
       "      <td>Meaning: The one who undertakes the matter of ...</td>\n",
       "      <td>en</td>\n",
       "    </tr>\n",
       "    <tr>\n",
       "      <th>...</th>\n",
       "      <td>...</td>\n",
       "      <td>...</td>\n",
       "      <td>...</td>\n",
       "      <td>...</td>\n",
       "    </tr>\n",
       "    <tr>\n",
       "      <th>99416</th>\n",
       "      <td>يابن هبيره إنك إن تك مع الله وفي طاعته يكفك با...</td>\n",
       "      <td>Allah will make you reach higher ranks in the ...</td>\n",
       "      <td>O Ibn Hubairah, if you are with God and obey H...</td>\n",
       "      <td>en</td>\n",
       "    </tr>\n",
       "    <tr>\n",
       "      <th>99807</th>\n",
       "      <td>ولله في خلقه شئون.</td>\n",
       "      <td>And God is capable of all things.\"</td>\n",
       "      <td>God created the Public.</td>\n",
       "      <td>en</td>\n",
       "    </tr>\n",
       "    <tr>\n",
       "      <th>99899</th>\n",
       "      <td>أثنى عليه علماء عصره ومن بعدهم، واعترفوا له بإ...</td>\n",
       "      <td>By their mere existence they bless Him and giv...</td>\n",
       "      <td>The scholars of his time and those after them ...</td>\n",
       "      <td>en</td>\n",
       "    </tr>\n",
       "    <tr>\n",
       "      <th>100486</th>\n",
       "      <td>وحضارة الإسلام لم تقم على الزهد في الدنيا والا...</td>\n",
       "      <td>There will be no sharp break between life here...</td>\n",
       "      <td>The civilization of Islam was not based on asc...</td>\n",
       "      <td>en</td>\n",
       "    </tr>\n",
       "    <tr>\n",
       "      <th>100951</th>\n",
       "      <td>قوله: بسم الله، أي اقرأ بذكر الله ربك وقم واقع...</td>\n",
       "      <td>For it is written: ‘Worship the Lord your God,...</td>\n",
       "      <td>His saying: In the name of God, meaning read i...</td>\n",
       "      <td>en</td>\n",
       "    </tr>\n",
       "  </tbody>\n",
       "</table>\n",
       "<p>916 rows × 4 columns</p>\n",
       "</div>"
      ],
      "text/plain": [
       "                                                       ar  \\\n",
       "0           إلى ربها ناظرة: أي منتظرة لرحمته ودخول جنته.    \n",
       "3                   النّعيم : الذي ألهاكم عن طاعة ربكم .    \n",
       "8           ولو ذكروا الآخرة لفروا فرارا إلى جناب ربهم.”    \n",
       "14      ولا يشترطون أن يكون الحديث متواتراً، بل هم يعم...   \n",
       "23      بمعنى: أن الذي يقوم بأمرِ الدين تحليلاً، وتحري...   \n",
       "...                                                   ...   \n",
       "99416   يابن هبيره إنك إن تك مع الله وفي طاعته يكفك با...   \n",
       "99807                                 ولله في خلقه شئون.    \n",
       "99899   أثنى عليه علماء عصره ومن بعدهم، واعترفوا له بإ...   \n",
       "100486  وحضارة الإسلام لم تقم على الزهد في الدنيا والا...   \n",
       "100951  قوله: بسم الله، أي اقرأ بذكر الله ربك وقم واقع...   \n",
       "\n",
       "                                                       en  \\\n",
       "0       He is sometimes seen having arguments with his...   \n",
       "3             Thus hath the Lord your God commanded you.    \n",
       "8       Nevertheless when it shall turn to the Lord, t...   \n",
       "14      They may not have speech but they have a lot t...   \n",
       "23      And it shall be for a sign, and for a witness ...   \n",
       "...                                                   ...   \n",
       "99416   Allah will make you reach higher ranks in the ...   \n",
       "99807                 And God is capable of all things.\"    \n",
       "99899   By their mere existence they bless Him and giv...   \n",
       "100486  There will be no sharp break between life here...   \n",
       "100951  For it is written: ‘Worship the Lord your God,...   \n",
       "\n",
       "                                            en_translated lang  \n",
       "0       Looking to her Lord: that is, waiting for His ...   en  \n",
       "3       Bliss: which distracts you from obeying your L...   en  \n",
       "8       If they had mentioned the Hereafter, they woul...   en  \n",
       "14      They do not stipulate that the hadith be mutaw...   en  \n",
       "23      Meaning: The one who undertakes the matter of ...   en  \n",
       "...                                                   ...  ...  \n",
       "99416   O Ibn Hubairah, if you are with God and obey H...   en  \n",
       "99807                             God created the Public.   en  \n",
       "99899   The scholars of his time and those after them ...   en  \n",
       "100486  The civilization of Islam was not based on asc...   en  \n",
       "100951  His saying: In the name of God, meaning read i...   en  \n",
       "\n",
       "[916 rows x 4 columns]"
      ]
     },
     "execution_count": 8,
     "metadata": {},
     "output_type": "execute_result"
    }
   ],
   "source": [
    "full_df.filter(items=list(dfs[dfs['similarity'] <= 0.7].index), axis=0)"
   ]
  },
  {
   "cell_type": "code",
   "execution_count": 7,
   "metadata": {},
   "outputs": [
    {
     "data": {
      "text/html": [
       "<div>\n",
       "<style scoped>\n",
       "    .dataframe tbody tr th:only-of-type {\n",
       "        vertical-align: middle;\n",
       "    }\n",
       "\n",
       "    .dataframe tbody tr th {\n",
       "        vertical-align: top;\n",
       "    }\n",
       "\n",
       "    .dataframe thead th {\n",
       "        text-align: right;\n",
       "    }\n",
       "</style>\n",
       "<table border=\"1\" class=\"dataframe\">\n",
       "  <thead>\n",
       "    <tr style=\"text-align: right;\">\n",
       "      <th></th>\n",
       "      <th>en</th>\n",
       "      <th>en_translated</th>\n",
       "      <th>similarity</th>\n",
       "    </tr>\n",
       "  </thead>\n",
       "  <tbody>\n",
       "    <tr>\n",
       "      <th>0</th>\n",
       "      <td>He is sometimes seen having arguments with his...</td>\n",
       "      <td>Looking to her Lord: that is, waiting for His ...</td>\n",
       "      <td>0.480645</td>\n",
       "    </tr>\n",
       "    <tr>\n",
       "      <th>3</th>\n",
       "      <td>Thus hath the Lord your God commanded you.</td>\n",
       "      <td>Bliss: which distracts you from obeying your L...</td>\n",
       "      <td>0.585392</td>\n",
       "    </tr>\n",
       "    <tr>\n",
       "      <th>8</th>\n",
       "      <td>Nevertheless when it shall turn to the Lord, t...</td>\n",
       "      <td>If they had mentioned the Hereafter, they woul...</td>\n",
       "      <td>0.578165</td>\n",
       "    </tr>\n",
       "    <tr>\n",
       "      <th>14</th>\n",
       "      <td>They may not have speech but they have a lot t...</td>\n",
       "      <td>They do not stipulate that the hadith be mutaw...</td>\n",
       "      <td>0.521230</td>\n",
       "    </tr>\n",
       "    <tr>\n",
       "      <th>23</th>\n",
       "      <td>And it shall be for a sign, and for a witness ...</td>\n",
       "      <td>Meaning: The one who undertakes the matter of ...</td>\n",
       "      <td>0.524413</td>\n",
       "    </tr>\n",
       "    <tr>\n",
       "      <th>...</th>\n",
       "      <td>...</td>\n",
       "      <td>...</td>\n",
       "      <td>...</td>\n",
       "    </tr>\n",
       "    <tr>\n",
       "      <th>99416</th>\n",
       "      <td>Allah will make you reach higher ranks in the ...</td>\n",
       "      <td>O Ibn Hubairah, if you are with God and obey H...</td>\n",
       "      <td>0.663533</td>\n",
       "    </tr>\n",
       "    <tr>\n",
       "      <th>99807</th>\n",
       "      <td>And God is capable of all things.\"</td>\n",
       "      <td>God created the Public.</td>\n",
       "      <td>0.575473</td>\n",
       "    </tr>\n",
       "    <tr>\n",
       "      <th>99899</th>\n",
       "      <td>By their mere existence they bless Him and giv...</td>\n",
       "      <td>The scholars of his time and those after them ...</td>\n",
       "      <td>0.577308</td>\n",
       "    </tr>\n",
       "    <tr>\n",
       "      <th>100486</th>\n",
       "      <td>There will be no sharp break between life here...</td>\n",
       "      <td>The civilization of Islam was not based on asc...</td>\n",
       "      <td>0.513711</td>\n",
       "    </tr>\n",
       "    <tr>\n",
       "      <th>100951</th>\n",
       "      <td>For it is written: ‘Worship the Lord your God,...</td>\n",
       "      <td>His saying: In the name of God, meaning read i...</td>\n",
       "      <td>0.649398</td>\n",
       "    </tr>\n",
       "  </tbody>\n",
       "</table>\n",
       "<p>916 rows × 3 columns</p>\n",
       "</div>"
      ],
      "text/plain": [
       "                                                       en  \\\n",
       "0       He is sometimes seen having arguments with his...   \n",
       "3             Thus hath the Lord your God commanded you.    \n",
       "8       Nevertheless when it shall turn to the Lord, t...   \n",
       "14      They may not have speech but they have a lot t...   \n",
       "23      And it shall be for a sign, and for a witness ...   \n",
       "...                                                   ...   \n",
       "99416   Allah will make you reach higher ranks in the ...   \n",
       "99807                 And God is capable of all things.\"    \n",
       "99899   By their mere existence they bless Him and giv...   \n",
       "100486  There will be no sharp break between life here...   \n",
       "100951  For it is written: ‘Worship the Lord your God,...   \n",
       "\n",
       "                                            en_translated  similarity  \n",
       "0       Looking to her Lord: that is, waiting for His ...    0.480645  \n",
       "3       Bliss: which distracts you from obeying your L...    0.585392  \n",
       "8       If they had mentioned the Hereafter, they woul...    0.578165  \n",
       "14      They do not stipulate that the hadith be mutaw...    0.521230  \n",
       "23      Meaning: The one who undertakes the matter of ...    0.524413  \n",
       "...                                                   ...         ...  \n",
       "99416   O Ibn Hubairah, if you are with God and obey H...    0.663533  \n",
       "99807                             God created the Public.    0.575473  \n",
       "99899   The scholars of his time and those after them ...    0.577308  \n",
       "100486  The civilization of Islam was not based on asc...    0.513711  \n",
       "100951  His saying: In the name of God, meaning read i...    0.649398  \n",
       "\n",
       "[916 rows x 3 columns]"
      ]
     },
     "execution_count": 7,
     "metadata": {},
     "output_type": "execute_result"
    }
   ],
   "source": [
    "dfs[dfs['similarity'] <= 0.7]"
   ]
  },
  {
   "cell_type": "code",
   "execution_count": 9,
   "metadata": {},
   "outputs": [
    {
     "name": "stderr",
     "output_type": "stream",
     "text": [
      "c:\\Users\\Abdulrahman\\Desktop\\bge_ft_arabic\\venv\\Lib\\site-packages\\tqdm\\auto.py:21: TqdmWarning: IProgress not found. Please update jupyter and ipywidgets. See https://ipywidgets.readthedocs.io/en/stable/user_install.html\n",
      "  from .autonotebook import tqdm as notebook_tqdm\n"
     ]
    }
   ],
   "source": [
    "from transformers import AutoTokenizer, AutoModel\n",
    "import torch"
   ]
  },
  {
   "cell_type": "code",
   "execution_count": 28,
   "metadata": {},
   "outputs": [],
   "source": [
    "tokenizer = AutoTokenizer.from_pretrained('BAAI/bge-large-en-v1.5')"
   ]
  },
  {
   "cell_type": "code",
   "execution_count": 29,
   "metadata": {},
   "outputs": [
    {
     "data": {
      "text/plain": [
       "BertModel(\n",
       "  (embeddings): BertEmbeddings(\n",
       "    (word_embeddings): Embedding(30522, 1024, padding_idx=0)\n",
       "    (position_embeddings): Embedding(512, 1024)\n",
       "    (token_type_embeddings): Embedding(2, 1024)\n",
       "    (LayerNorm): LayerNorm((1024,), eps=1e-12, elementwise_affine=True)\n",
       "    (dropout): Dropout(p=0.1, inplace=False)\n",
       "  )\n",
       "  (encoder): BertEncoder(\n",
       "    (layer): ModuleList(\n",
       "      (0-23): 24 x BertLayer(\n",
       "        (attention): BertAttention(\n",
       "          (self): BertSelfAttention(\n",
       "            (query): Linear(in_features=1024, out_features=1024, bias=True)\n",
       "            (key): Linear(in_features=1024, out_features=1024, bias=True)\n",
       "            (value): Linear(in_features=1024, out_features=1024, bias=True)\n",
       "            (dropout): Dropout(p=0.1, inplace=False)\n",
       "          )\n",
       "          (output): BertSelfOutput(\n",
       "            (dense): Linear(in_features=1024, out_features=1024, bias=True)\n",
       "            (LayerNorm): LayerNorm((1024,), eps=1e-12, elementwise_affine=True)\n",
       "            (dropout): Dropout(p=0.1, inplace=False)\n",
       "          )\n",
       "        )\n",
       "        (intermediate): BertIntermediate(\n",
       "          (dense): Linear(in_features=1024, out_features=4096, bias=True)\n",
       "          (intermediate_act_fn): GELUActivation()\n",
       "        )\n",
       "        (output): BertOutput(\n",
       "          (dense): Linear(in_features=4096, out_features=1024, bias=True)\n",
       "          (LayerNorm): LayerNorm((1024,), eps=1e-12, elementwise_affine=True)\n",
       "          (dropout): Dropout(p=0.1, inplace=False)\n",
       "        )\n",
       "      )\n",
       "    )\n",
       "  )\n",
       "  (pooler): BertPooler(\n",
       "    (dense): Linear(in_features=1024, out_features=1024, bias=True)\n",
       "    (activation): Tanh()\n",
       "  )\n",
       ")"
      ]
     },
     "execution_count": 29,
     "metadata": {},
     "output_type": "execute_result"
    }
   ],
   "source": [
    "model = AutoModel.from_pretrained('BAAI/bge-large-en-v1.5')\n",
    "model.eval()"
   ]
  },
  {
   "cell_type": "code",
   "execution_count": 47,
   "metadata": {},
   "outputs": [
    {
     "data": {
      "text/plain": [
       "[0,\n",
       " 1335,\n",
       " 23164,\n",
       " 608,\n",
       " 6,\n",
       " 97884,\n",
       " 250,\n",
       " 12,\n",
       " 7471,\n",
       " 86605,\n",
       " 250,\n",
       " 795,\n",
       " 101449,\n",
       " 2862,\n",
       " 60965,\n",
       " 150607,\n",
       " 5867,\n",
       " 2862,\n",
       " 5,\n",
       " 2]"
      ]
     },
     "execution_count": 47,
     "metadata": {},
     "output_type": "execute_result"
    }
   ],
   "source": [
    "tokens = tokenizer2.encode(full_df['ar'][0])\n",
    "tokens"
   ]
  },
  {
   "cell_type": "code",
   "execution_count": 45,
   "metadata": {},
   "outputs": [
    {
     "data": {
      "text/plain": [
       "'[CLS]ا##ل##ىر##ب##ه##ان##ا##ظ##ر##ة:ا##يم##ن##ت##ظ##ر##ةل##ر##ح##م##ت##هو##د##خ##و##لج##ن##ت##ه.[SEP]'"
      ]
     },
     "execution_count": 45,
     "metadata": {},
     "output_type": "execute_result"
    }
   ],
   "source": [
    "tokenizer2.convert_tokens_to_string(tokenizer.convert_ids_to_tokens(tokens))"
   ]
  },
  {
   "cell_type": "code",
   "execution_count": 42,
   "metadata": {},
   "outputs": [
    {
     "name": "stderr",
     "output_type": "stream",
     "text": [
      "Downloading (…)okenizer_config.json: 100%|██████████| 418/418 [00:00<00:00, 421kB/s]\n",
      "Downloading (…)tencepiece.bpe.model: 100%|██████████| 5.07M/5.07M [00:05<00:00, 976kB/s]\n",
      "Downloading tokenizer.json: 100%|██████████| 17.1M/17.1M [00:17<00:00, 964kB/s]\n",
      "Downloading (…)cial_tokens_map.json: 100%|██████████| 280/280 [00:00<00:00, 280kB/s]\n"
     ]
    }
   ],
   "source": [
    "tokenizer2 = AutoTokenizer.from_pretrained('intfloat/multilingual-e5-large')"
   ]
  },
  {
   "cell_type": "code",
   "execution_count": 43,
   "metadata": {},
   "outputs": [],
   "source": [
    "vocab = tokenizer2.get_vocab()"
   ]
  },
  {
   "cell_type": "code",
   "execution_count": 44,
   "metadata": {},
   "outputs": [],
   "source": [
    "vocab = {v: k for k, v in vocab.items()}"
   ]
  },
  {
   "cell_type": "code",
   "execution_count": 48,
   "metadata": {},
   "outputs": [
    {
     "data": {
      "text/plain": [
       "['<s>',\n",
       " '▁إلى',\n",
       " '▁رب',\n",
       " 'ها',\n",
       " '▁',\n",
       " 'ناظر',\n",
       " 'ة',\n",
       " ':',\n",
       " '▁أي',\n",
       " '▁منتظر',\n",
       " 'ة',\n",
       " '▁ل',\n",
       " 'رحم',\n",
       " 'ته',\n",
       " '▁ود',\n",
       " 'خول',\n",
       " '▁جن',\n",
       " 'ته',\n",
       " '.',\n",
       " '</s>']"
      ]
     },
     "execution_count": 48,
     "metadata": {},
     "output_type": "execute_result"
    }
   ],
   "source": [
    "[vocab[t] for t in tokens]"
   ]
  },
  {
   "cell_type": "code",
   "execution_count": null,
   "metadata": {},
   "outputs": [],
   "source": []
  }
 ],
 "metadata": {
  "kernelspec": {
   "display_name": "venv",
   "language": "python",
   "name": "python3"
  },
  "language_info": {
   "codemirror_mode": {
    "name": "ipython",
    "version": 3
   },
   "file_extension": ".py",
   "mimetype": "text/x-python",
   "name": "python",
   "nbconvert_exporter": "python",
   "pygments_lexer": "ipython3",
   "version": "3.11.3"
  }
 },
 "nbformat": 4,
 "nbformat_minor": 2
}
