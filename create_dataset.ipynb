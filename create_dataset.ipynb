{
 "cells": [
  {
   "cell_type": "code",
   "execution_count": 2,
   "metadata": {},
   "outputs": [
    {
     "name": "stderr",
     "output_type": "stream",
     "text": [
      "c:\\Users\\Abdulrahman\\Desktop\\bge_ft_arabic\\venv\\Lib\\site-packages\\tqdm\\auto.py:21: TqdmWarning: IProgress not found. Please update jupyter and ipywidgets. See https://ipywidgets.readthedocs.io/en/stable/user_install.html\n",
      "  from .autonotebook import tqdm as notebook_tqdm\n"
     ]
    }
   ],
   "source": [
    "from glob import glob\n",
    "import pandas as pd\n",
    "import numpy as np\n",
    "from tqdm import tqdm\n",
    "tqdm.pandas()\n",
    "from datasets import Dataset\n",
    "from langdetect import detect\n"
   ]
  },
  {
   "cell_type": "code",
   "execution_count": 3,
   "metadata": {},
   "outputs": [],
   "source": [
    "df = pd.read_parquet('data/ar-en-200-translated.parquet')"
   ]
  },
  {
   "cell_type": "code",
   "execution_count": 4,
   "metadata": {},
   "outputs": [
    {
     "data": {
      "text/html": [
       "<div>\n",
       "<style scoped>\n",
       "    .dataframe tbody tr th:only-of-type {\n",
       "        vertical-align: middle;\n",
       "    }\n",
       "\n",
       "    .dataframe tbody tr th {\n",
       "        vertical-align: top;\n",
       "    }\n",
       "\n",
       "    .dataframe thead th {\n",
       "        text-align: right;\n",
       "    }\n",
       "</style>\n",
       "<table border=\"1\" class=\"dataframe\">\n",
       "  <thead>\n",
       "    <tr style=\"text-align: right;\">\n",
       "      <th></th>\n",
       "      <th>ar</th>\n",
       "      <th>en</th>\n",
       "      <th>en_translated</th>\n",
       "    </tr>\n",
       "  </thead>\n",
       "  <tbody>\n",
       "    <tr>\n",
       "      <th>0</th>\n",
       "      <td>إلى ربها ناظرة: أي منتظرة لرحمته ودخول جنته.</td>\n",
       "      <td>He is sometimes seen having arguments with his...</td>\n",
       "      <td>Looking to her Lord: that is, waiting for His ...</td>\n",
       "    </tr>\n",
       "    <tr>\n",
       "      <th>1</th>\n",
       "      <td>في البداية حققوا بعض المكاسب بما في ذلك الاستي...</td>\n",
       "      <td>Initially, they made some gains, including cap...</td>\n",
       "      <td>Initially they made some gains including captu...</td>\n",
       "    </tr>\n",
       "    <tr>\n",
       "      <th>2</th>\n",
       "      <td>الأدميرال هالسي (1944) يرتدي خوذة الألياف الأم...</td>\n",
       "      <td>Admiral Halsey (1944) wearing an American fibe...</td>\n",
       "      <td>Admiral Halsey (1944) wearing an American fibe...</td>\n",
       "    </tr>\n",
       "    <tr>\n",
       "      <th>3</th>\n",
       "      <td>عن \"رب العالمين\" سبحانه وتعالى.</td>\n",
       "      <td>Opsaridium ubangiense.</td>\n",
       "      <td>About the Lord of the Worlds, Glory be to Him.</td>\n",
       "    </tr>\n",
       "    <tr>\n",
       "      <th>4</th>\n",
       "      <td>النّعيم : الذي ألهاكم عن طاعة ربكم .</td>\n",
       "      <td>Thus hath the Lord your God commanded you.</td>\n",
       "      <td>Bliss: which distracts you from obeying your L...</td>\n",
       "    </tr>\n",
       "    <tr>\n",
       "      <th>5</th>\n",
       "      <td>ثم أمر رجاله بإشعال النار في الغابة لإجبار جي ...</td>\n",
       "      <td>He then ordered his men to set fire to the for...</td>\n",
       "      <td>He then ordered his men to set fire to the for...</td>\n",
       "    </tr>\n",
       "    <tr>\n",
       "      <th>6</th>\n",
       "      <td>2) #40, على الرغم من أنه يمكن أن ينظر إلى إصلا...</td>\n",
       "      <td>2) #40, though he can be seen reforming afterw...</td>\n",
       "      <td>2) #40, although it can be seen to be fixed af...</td>\n",
       "    </tr>\n",
       "    <tr>\n",
       "      <th>7</th>\n",
       "      <td>ومع ذلك، ينبغي استبعاد ليبيا - على الأقل في ال...</td>\n",
       "      <td>Libya, however, should be excluded - at least ...</td>\n",
       "      <td>However, Libya should be excluded - at least i...</td>\n",
       "    </tr>\n",
       "    <tr>\n",
       "      <th>8</th>\n",
       "      <td>كلمة \"اللعنة\" يستخدم 857 مرات خلال الفيلم.</td>\n",
       "      <td>The word \"fuck\" is used 857 times during the f...</td>\n",
       "      <td>The word \"fuck\" is used 857 times throughout t...</td>\n",
       "    </tr>\n",
       "    <tr>\n",
       "      <th>9</th>\n",
       "      <td>ولو ذكروا الآخرة لفروا فرارا إلى جناب ربهم.”</td>\n",
       "      <td>Nevertheless when it shall turn to the Lord, t...</td>\n",
       "      <td>If they had mentioned the Hereafter, they woul...</td>\n",
       "    </tr>\n",
       "  </tbody>\n",
       "</table>\n",
       "</div>"
      ],
      "text/plain": [
       "                                                  ar  \\\n",
       "0      إلى ربها ناظرة: أي منتظرة لرحمته ودخول جنته.    \n",
       "1  في البداية حققوا بعض المكاسب بما في ذلك الاستي...   \n",
       "2  الأدميرال هالسي (1944) يرتدي خوذة الألياف الأم...   \n",
       "3                   عن \"رب العالمين\" سبحانه وتعالى.    \n",
       "4              النّعيم : الذي ألهاكم عن طاعة ربكم .    \n",
       "5  ثم أمر رجاله بإشعال النار في الغابة لإجبار جي ...   \n",
       "6  2) #40, على الرغم من أنه يمكن أن ينظر إلى إصلا...   \n",
       "7  ومع ذلك، ينبغي استبعاد ليبيا - على الأقل في ال...   \n",
       "8        كلمة \"اللعنة\" يستخدم 857 مرات خلال الفيلم.    \n",
       "9      ولو ذكروا الآخرة لفروا فرارا إلى جناب ربهم.”    \n",
       "\n",
       "                                                  en  \\\n",
       "0  He is sometimes seen having arguments with his...   \n",
       "1  Initially, they made some gains, including cap...   \n",
       "2  Admiral Halsey (1944) wearing an American fibe...   \n",
       "3                            Opsaridium ubangiense.    \n",
       "4        Thus hath the Lord your God commanded you.    \n",
       "5  He then ordered his men to set fire to the for...   \n",
       "6  2) #40, though he can be seen reforming afterw...   \n",
       "7  Libya, however, should be excluded - at least ...   \n",
       "8  The word \"fuck\" is used 857 times during the f...   \n",
       "9  Nevertheless when it shall turn to the Lord, t...   \n",
       "\n",
       "                                       en_translated  \n",
       "0  Looking to her Lord: that is, waiting for His ...  \n",
       "1  Initially they made some gains including captu...  \n",
       "2  Admiral Halsey (1944) wearing an American fibe...  \n",
       "3     About the Lord of the Worlds, Glory be to Him.  \n",
       "4  Bliss: which distracts you from obeying your L...  \n",
       "5  He then ordered his men to set fire to the for...  \n",
       "6  2) #40, although it can be seen to be fixed af...  \n",
       "7  However, Libya should be excluded - at least i...  \n",
       "8  The word \"fuck\" is used 857 times throughout t...  \n",
       "9  If they had mentioned the Hereafter, they woul...  "
      ]
     },
     "execution_count": 4,
     "metadata": {},
     "output_type": "execute_result"
    }
   ],
   "source": [
    "df.head(10)"
   ]
  },
  {
   "cell_type": "code",
   "execution_count": 5,
   "metadata": {},
   "outputs": [
    {
     "data": {
      "text/plain": [
       "'en'"
      ]
     },
     "execution_count": 5,
     "metadata": {},
     "output_type": "execute_result"
    }
   ],
   "source": [
    "detect(df.loc[155652]['en'])"
   ]
  },
  {
   "cell_type": "code",
   "execution_count": 6,
   "metadata": {},
   "outputs": [],
   "source": [
    "def detect_lang(text):\n",
    "    try:\n",
    "        return detect(text)\n",
    "    except:\n",
    "        return 'unknown'"
   ]
  },
  {
   "cell_type": "code",
   "execution_count": 7,
   "metadata": {},
   "outputs": [
    {
     "name": "stderr",
     "output_type": "stream",
     "text": [
      "100%|██████████| 988209/988209 [1:02:35<00:00, 263.16it/s]\n"
     ]
    }
   ],
   "source": [
    "langs = [detect_lang(str(x)) for x in tqdm(df['en'].values)]"
   ]
  },
  {
   "cell_type": "code",
   "execution_count": 8,
   "metadata": {},
   "outputs": [],
   "source": [
    "df['lang'] = langs"
   ]
  },
  {
   "cell_type": "code",
   "execution_count": 9,
   "metadata": {},
   "outputs": [],
   "source": [
    "df = df[df['lang'] == 'en']"
   ]
  },
  {
   "cell_type": "code",
   "execution_count": 10,
   "metadata": {},
   "outputs": [],
   "source": [
    "df.reset_index(drop=True, inplace=True)"
   ]
  },
  {
   "cell_type": "code",
   "execution_count": 11,
   "metadata": {},
   "outputs": [],
   "source": [
    "df.to_parquet('data/ar-en-final.parquet')"
   ]
  },
  {
   "cell_type": "code",
   "execution_count": null,
   "metadata": {},
   "outputs": [],
   "source": []
  }
 ],
 "metadata": {
  "kernelspec": {
   "display_name": "venv",
   "language": "python",
   "name": "python3"
  },
  "language_info": {
   "codemirror_mode": {
    "name": "ipython",
    "version": 3
   },
   "file_extension": ".py",
   "mimetype": "text/x-python",
   "name": "python",
   "nbconvert_exporter": "python",
   "pygments_lexer": "ipython3",
   "version": "3.11.3"
  }
 },
 "nbformat": 4,
 "nbformat_minor": 2
}
