{
 "cells": [
  {
   "cell_type": "code",
   "execution_count": 14,
   "metadata": {},
   "outputs": [],
   "source": [
    "from google.cloud import translate\n",
    "import pandas as pd\n",
    "import numpy as np\n",
    "from tqdm import tqdm\n",
    "tqdm.pandas()"
   ]
  },
  {
   "cell_type": "code",
   "execution_count": 2,
   "metadata": {},
   "outputs": [],
   "source": [
    "def translate_text_with_model(text: str) -> dict:\n",
    "    \n",
    "    translate_client = translate.Client()\n",
    "\n",
    "    if isinstance(text, bytes):\n",
    "        text = text.decode(\"utf-8\")\n",
    "\n",
    "    result = translate_client.translate(text, \n",
    "                                        source_language=\"ar\",\n",
    "                                        target_language='en', \n",
    "                                        model='nmt')\n",
    "\n",
    "    #print(result[\"translatedText\"])\n",
    "    return result[\"translatedText\"]\n"
   ]
  },
  {
   "cell_type": "code",
   "execution_count": 3,
   "metadata": {},
   "outputs": [
    {
     "data": {
      "text/plain": [
       "'Hello World'"
      ]
     },
     "execution_count": 3,
     "metadata": {},
     "output_type": "execute_result"
    }
   ],
   "source": [
    "translate_text_with_model(\"مرحبا بالعالم\")"
   ]
  },
  {
   "cell_type": "code",
   "execution_count": 11,
   "metadata": {},
   "outputs": [],
   "source": [
    "pairs_200 = pd.read_parquet('data/ar-en-200.parquet')\n",
    "pairs_200.reset_index(inplace=True)\n",
    "pairs_200.drop(columns=['index'], inplace=True)"
   ]
  },
  {
   "cell_type": "code",
   "execution_count": 12,
   "metadata": {},
   "outputs": [],
   "source": [
    "batches = {\n",
    "    0: pairs_200.iloc[:100_000,:],\n",
    "    1: pairs_200.iloc[100_000:200_000,:],\n",
    "    2: pairs_200.iloc[200_000:300_000,:],\n",
    "    3: pairs_200.iloc[300_000:400_000,:],\n",
    "    4: pairs_200.iloc[400_000:500_000,:],\n",
    "    5: pairs_200.iloc[500_000:600_000,:],\n",
    "    6: pairs_200.iloc[600_000:700_000,:],\n",
    "    7: pairs_200.iloc[700_000:800_000,:],\n",
    "    8: pairs_200.iloc[800_000:900_000,:],\n",
    "    9: pairs_200.iloc[900_000:,:]\n",
    "}"
   ]
  },
  {
   "cell_type": "code",
   "execution_count": 6,
   "metadata": {},
   "outputs": [],
   "source": [
    "def translator(idx) -> pd.DataFrame:\n",
    "    batches[idx]['en_translated'] = batches[idx]['ar'].progress_apply(lambda x: translate_text_with_model(x))"
   ]
  },
  {
   "cell_type": "code",
   "execution_count": 19,
   "metadata": {},
   "outputs": [],
   "source": [
    "n = 10_000\n",
    "pairs_split = [pairs_200[i:i+n] for i in range(0,pairs_200.shape[0],n)]"
   ]
  },
  {
   "cell_type": "code",
   "execution_count": 27,
   "metadata": {},
   "outputs": [
    {
     "data": {
      "text/plain": [
       "99"
      ]
     },
     "execution_count": 27,
     "metadata": {},
     "output_type": "execute_result"
    }
   ],
   "source": [
    "len(pairs_split)"
   ]
  },
  {
   "cell_type": "code",
   "execution_count": 23,
   "metadata": {},
   "outputs": [
    {
     "name": "stderr",
     "output_type": "stream",
     "text": [
      "99it [00:05, 18.89it/s]\n"
     ]
    }
   ],
   "source": [
    "for idx, split in tqdm(enumerate(pairs_split)):\n",
    "    split['ar'].to_csv(f'batches/ar_{idx}.tsv', index=True, header=False, sep='\\t')"
   ]
  },
  {
   "cell_type": "code",
   "execution_count": 35,
   "metadata": {},
   "outputs": [],
   "source": [
    "from google.cloud import translate\n",
    "\n",
    "\n",
    "def batch_translate_text(\n",
    "    input_uris,\n",
    "    output_uri: str = \"gs://wiki_matrix_translated/\",\n",
    "    project_id: str = \"neurofy-403605\"\n",
    ") -> translate.TranslateTextResponse:\n",
    "    \"\"\"Translates a batch of texts on GCS and stores the result in a GCS location.\n",
    "\n",
    "    Args:\n",
    "        input_uri: The input URI of the texts to be translated.\n",
    "        output_uri: The output URI of the translated texts.\n",
    "        project_id: The ID of the project that owns the destination bucket.\n",
    "        timeout: The timeout for this batch translation operation.\n",
    "\n",
    "    Returns:\n",
    "        The translated texts.\n",
    "    \"\"\"\n",
    "\n",
    "    client = translate.TranslationServiceClient()\n",
    "\n",
    "    location = \"us-central1\"\n",
    "    # Supported file types: https://cloud.google.com/translate/docs/supported-formats\n",
    "\n",
    "    input_configs_elements = [{\n",
    "        \"gcs_source\": {\"input_uri\": input_uri},\n",
    "        \"mime_type\": \"text/plain\",  # Can be \"text/plain\" or \"text/html\".\n",
    "    } for input_uri in input_uris]\n",
    "\n",
    "    gcs_destination = {\"output_uri_prefix\": output_uri}\n",
    "    output_config = {\"gcs_destination\": gcs_destination}\n",
    "    parent = f\"projects/{project_id}/locations/{location}\"\n",
    "\n",
    "    # Supported language codes: https://cloud.google.com/translate/docs/languages\n",
    "    operation = client.batch_translate_text(\n",
    "        request={\n",
    "            \"parent\": parent,\n",
    "            \"source_language_code\": \"ar\",\n",
    "            \"target_language_codes\": [\"en\"],  # Up to 10 language codes here.\n",
    "            \"input_configs\": input_configs_elements,\n",
    "            \"output_config\": output_config,\n",
    "        }\n",
    "    )\n",
    "\n",
    "    print(\"Waiting for operation to complete...\")\n",
    "    response = operation.result(timeout=None)\n",
    "\n",
    "    print(f\"Total Characters: {response.total_characters}\")\n",
    "    print(f\"Translated Characters: {response.translated_characters}\")\n",
    "\n",
    "    return response\n"
   ]
  },
  {
   "cell_type": "code",
   "execution_count": 36,
   "metadata": {},
   "outputs": [],
   "source": [
    "done = [f\"gs://wiki_matrix_batches/ar_{idx}.tsv\" for idx in range(50)]"
   ]
  },
  {
   "cell_type": "code",
   "execution_count": 37,
   "metadata": {},
   "outputs": [],
   "source": [
    "all = [f\"gs://wiki_matrix_batches/ar_{idx}.tsv\" for idx in range(99)]"
   ]
  },
  {
   "cell_type": "code",
   "execution_count": 38,
   "metadata": {},
   "outputs": [],
   "source": [
    "remaining = [x for x in all if x not in done]"
   ]
  },
  {
   "cell_type": "code",
   "execution_count": 39,
   "metadata": {},
   "outputs": [
    {
     "data": {
      "text/plain": [
       "49"
      ]
     },
     "execution_count": 39,
     "metadata": {},
     "output_type": "execute_result"
    }
   ],
   "source": [
    "len(remaining)"
   ]
  },
  {
   "cell_type": "code",
   "execution_count": 40,
   "metadata": {},
   "outputs": [
    {
     "name": "stdout",
     "output_type": "stream",
     "text": [
      "Waiting for operation to complete...\n",
      "Total Characters: 58740228\n",
      "Translated Characters: 58740228\n"
     ]
    },
    {
     "data": {
      "text/plain": [
       "total_characters: 58740228\n",
       "translated_characters: 58740228\n",
       "submit_time {\n",
       "  seconds: 1698688065\n",
       "}\n",
       "end_time {\n",
       "  seconds: 1698688586\n",
       "}"
      ]
     },
     "execution_count": 40,
     "metadata": {},
     "output_type": "execute_result"
    }
   ],
   "source": [
    "batch_translate_text(input_uris = remaining)"
   ]
  },
  {
   "cell_type": "code",
   "execution_count": null,
   "metadata": {},
   "outputs": [],
   "source": []
  }
 ],
 "metadata": {
  "kernelspec": {
   "display_name": "venv",
   "language": "python",
   "name": "python3"
  },
  "language_info": {
   "codemirror_mode": {
    "name": "ipython",
    "version": 3
   },
   "file_extension": ".py",
   "mimetype": "text/x-python",
   "name": "python",
   "nbconvert_exporter": "python",
   "pygments_lexer": "ipython3",
   "version": "3.11.3"
  }
 },
 "nbformat": 4,
 "nbformat_minor": 2
}
