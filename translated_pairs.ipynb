{
 "cells": [
  {
   "cell_type": "code",
   "execution_count": 1,
   "metadata": {},
   "outputs": [],
   "source": [
    "from glob import glob\n",
    "import pandas as pd\n",
    "import numpy as np\n",
    "from tqdm import tqdm\n",
    "tqdm.pandas()"
   ]
  },
  {
   "cell_type": "code",
   "execution_count": 2,
   "metadata": {},
   "outputs": [],
   "source": [
    "paths = glob('translated/*.tsv')"
   ]
  },
  {
   "cell_type": "code",
   "execution_count": 3,
   "metadata": {},
   "outputs": [
    {
     "data": {
      "text/plain": [
       "['translated\\\\wiki_matrix_batches_ar_0_en_translations.tsv',\n",
       " 'translated\\\\wiki_matrix_batches_ar_10_en_translations.tsv',\n",
       " 'translated\\\\wiki_matrix_batches_ar_11_en_translations.tsv',\n",
       " 'translated\\\\wiki_matrix_batches_ar_12_en_translations.tsv',\n",
       " 'translated\\\\wiki_matrix_batches_ar_13_en_translations.tsv',\n",
       " 'translated\\\\wiki_matrix_batches_ar_14_en_translations.tsv',\n",
       " 'translated\\\\wiki_matrix_batches_ar_15_en_translations.tsv',\n",
       " 'translated\\\\wiki_matrix_batches_ar_16_en_translations.tsv',\n",
       " 'translated\\\\wiki_matrix_batches_ar_17_en_translations.tsv',\n",
       " 'translated\\\\wiki_matrix_batches_ar_18_en_translations.tsv',\n",
       " 'translated\\\\wiki_matrix_batches_ar_19_en_translations.tsv',\n",
       " 'translated\\\\wiki_matrix_batches_ar_1_en_translations.tsv',\n",
       " 'translated\\\\wiki_matrix_batches_ar_20_en_translations.tsv',\n",
       " 'translated\\\\wiki_matrix_batches_ar_21_en_translations.tsv',\n",
       " 'translated\\\\wiki_matrix_batches_ar_22_en_translations.tsv',\n",
       " 'translated\\\\wiki_matrix_batches_ar_23_en_translations.tsv',\n",
       " 'translated\\\\wiki_matrix_batches_ar_24_en_translations.tsv',\n",
       " 'translated\\\\wiki_matrix_batches_ar_25_en_translations.tsv',\n",
       " 'translated\\\\wiki_matrix_batches_ar_26_en_translations.tsv',\n",
       " 'translated\\\\wiki_matrix_batches_ar_27_en_translations.tsv',\n",
       " 'translated\\\\wiki_matrix_batches_ar_28_en_translations.tsv',\n",
       " 'translated\\\\wiki_matrix_batches_ar_29_en_translations.tsv',\n",
       " 'translated\\\\wiki_matrix_batches_ar_2_en_translations.tsv',\n",
       " 'translated\\\\wiki_matrix_batches_ar_30_en_translations.tsv',\n",
       " 'translated\\\\wiki_matrix_batches_ar_31_en_translations.tsv',\n",
       " 'translated\\\\wiki_matrix_batches_ar_32_en_translations.tsv',\n",
       " 'translated\\\\wiki_matrix_batches_ar_33_en_translations.tsv',\n",
       " 'translated\\\\wiki_matrix_batches_ar_34_en_translations.tsv',\n",
       " 'translated\\\\wiki_matrix_batches_ar_35_en_translations.tsv',\n",
       " 'translated\\\\wiki_matrix_batches_ar_36_en_translations.tsv',\n",
       " 'translated\\\\wiki_matrix_batches_ar_37_en_translations.tsv',\n",
       " 'translated\\\\wiki_matrix_batches_ar_38_en_translations.tsv',\n",
       " 'translated\\\\wiki_matrix_batches_ar_39_en_translations.tsv',\n",
       " 'translated\\\\wiki_matrix_batches_ar_3_en_translations.tsv',\n",
       " 'translated\\\\wiki_matrix_batches_ar_40_en_translations.tsv',\n",
       " 'translated\\\\wiki_matrix_batches_ar_41_en_translations.tsv',\n",
       " 'translated\\\\wiki_matrix_batches_ar_42_en_translations.tsv',\n",
       " 'translated\\\\wiki_matrix_batches_ar_43_en_translations.tsv',\n",
       " 'translated\\\\wiki_matrix_batches_ar_44_en_translations.tsv',\n",
       " 'translated\\\\wiki_matrix_batches_ar_45_en_translations.tsv',\n",
       " 'translated\\\\wiki_matrix_batches_ar_46_en_translations.tsv',\n",
       " 'translated\\\\wiki_matrix_batches_ar_47_en_translations.tsv',\n",
       " 'translated\\\\wiki_matrix_batches_ar_48_en_translations.tsv',\n",
       " 'translated\\\\wiki_matrix_batches_ar_49_en_translations.tsv',\n",
       " 'translated\\\\wiki_matrix_batches_ar_4_en_translations.tsv',\n",
       " 'translated\\\\wiki_matrix_batches_ar_50_en_translations.tsv',\n",
       " 'translated\\\\wiki_matrix_batches_ar_51_en_translations.tsv',\n",
       " 'translated\\\\wiki_matrix_batches_ar_52_en_translations.tsv',\n",
       " 'translated\\\\wiki_matrix_batches_ar_53_en_translations.tsv',\n",
       " 'translated\\\\wiki_matrix_batches_ar_54_en_translations.tsv',\n",
       " 'translated\\\\wiki_matrix_batches_ar_55_en_translations.tsv',\n",
       " 'translated\\\\wiki_matrix_batches_ar_56_en_translations.tsv',\n",
       " 'translated\\\\wiki_matrix_batches_ar_57_en_translations.tsv',\n",
       " 'translated\\\\wiki_matrix_batches_ar_58_en_translations.tsv',\n",
       " 'translated\\\\wiki_matrix_batches_ar_59_en_translations.tsv',\n",
       " 'translated\\\\wiki_matrix_batches_ar_5_en_translations.tsv',\n",
       " 'translated\\\\wiki_matrix_batches_ar_60_en_translations.tsv',\n",
       " 'translated\\\\wiki_matrix_batches_ar_61_en_translations.tsv',\n",
       " 'translated\\\\wiki_matrix_batches_ar_62_en_translations.tsv',\n",
       " 'translated\\\\wiki_matrix_batches_ar_63_en_translations.tsv',\n",
       " 'translated\\\\wiki_matrix_batches_ar_64_en_translations.tsv',\n",
       " 'translated\\\\wiki_matrix_batches_ar_65_en_translations.tsv',\n",
       " 'translated\\\\wiki_matrix_batches_ar_66_en_translations.tsv',\n",
       " 'translated\\\\wiki_matrix_batches_ar_67_en_translations.tsv',\n",
       " 'translated\\\\wiki_matrix_batches_ar_68_en_translations.tsv',\n",
       " 'translated\\\\wiki_matrix_batches_ar_69_en_translations.tsv',\n",
       " 'translated\\\\wiki_matrix_batches_ar_6_en_translations.tsv',\n",
       " 'translated\\\\wiki_matrix_batches_ar_70_en_translations.tsv',\n",
       " 'translated\\\\wiki_matrix_batches_ar_71_en_translations.tsv',\n",
       " 'translated\\\\wiki_matrix_batches_ar_72_en_translations.tsv',\n",
       " 'translated\\\\wiki_matrix_batches_ar_73_en_translations.tsv',\n",
       " 'translated\\\\wiki_matrix_batches_ar_74_en_translations.tsv',\n",
       " 'translated\\\\wiki_matrix_batches_ar_75_en_translations.tsv',\n",
       " 'translated\\\\wiki_matrix_batches_ar_76_en_translations.tsv',\n",
       " 'translated\\\\wiki_matrix_batches_ar_77_en_translations.tsv',\n",
       " 'translated\\\\wiki_matrix_batches_ar_78_en_translations.tsv',\n",
       " 'translated\\\\wiki_matrix_batches_ar_79_en_translations.tsv',\n",
       " 'translated\\\\wiki_matrix_batches_ar_7_en_translations.tsv',\n",
       " 'translated\\\\wiki_matrix_batches_ar_80_en_translations.tsv',\n",
       " 'translated\\\\wiki_matrix_batches_ar_81_en_translations.tsv',\n",
       " 'translated\\\\wiki_matrix_batches_ar_82_en_translations.tsv',\n",
       " 'translated\\\\wiki_matrix_batches_ar_83_en_translations.tsv',\n",
       " 'translated\\\\wiki_matrix_batches_ar_84_en_translations.tsv',\n",
       " 'translated\\\\wiki_matrix_batches_ar_85_en_translations.tsv',\n",
       " 'translated\\\\wiki_matrix_batches_ar_86_en_translations.tsv',\n",
       " 'translated\\\\wiki_matrix_batches_ar_87_en_translations.tsv',\n",
       " 'translated\\\\wiki_matrix_batches_ar_88_en_translations.tsv',\n",
       " 'translated\\\\wiki_matrix_batches_ar_89_en_translations.tsv',\n",
       " 'translated\\\\wiki_matrix_batches_ar_8_en_translations.tsv',\n",
       " 'translated\\\\wiki_matrix_batches_ar_90_en_translations.tsv',\n",
       " 'translated\\\\wiki_matrix_batches_ar_91_en_translations.tsv',\n",
       " 'translated\\\\wiki_matrix_batches_ar_92_en_translations.tsv',\n",
       " 'translated\\\\wiki_matrix_batches_ar_93_en_translations.tsv',\n",
       " 'translated\\\\wiki_matrix_batches_ar_94_en_translations.tsv',\n",
       " 'translated\\\\wiki_matrix_batches_ar_95_en_translations.tsv',\n",
       " 'translated\\\\wiki_matrix_batches_ar_96_en_translations.tsv',\n",
       " 'translated\\\\wiki_matrix_batches_ar_97_en_translations.tsv',\n",
       " 'translated\\\\wiki_matrix_batches_ar_98_en_translations.tsv',\n",
       " 'translated\\\\wiki_matrix_batches_ar_9_en_translations.tsv']"
      ]
     },
     "execution_count": 3,
     "metadata": {},
     "output_type": "execute_result"
    }
   ],
   "source": [
    "paths"
   ]
  },
  {
   "cell_type": "code",
   "execution_count": 16,
   "metadata": {},
   "outputs": [],
   "source": [
    "dfs = pd.concat([pd.read_csv(path, sep='\\t', index_col=0, header=None) for path in paths])"
   ]
  },
  {
   "cell_type": "code",
   "execution_count": 18,
   "metadata": {},
   "outputs": [],
   "source": [
    "dfs.sort_index(inplace=True)"
   ]
  },
  {
   "cell_type": "code",
   "execution_count": 20,
   "metadata": {},
   "outputs": [],
   "source": [
    "dfs.columns = ['ar', 'en_translated']"
   ]
  },
  {
   "cell_type": "code",
   "execution_count": 23,
   "metadata": {},
   "outputs": [],
   "source": [
    "pairs_200 = pd.read_parquet('data/ar-en-200.parquet')"
   ]
  },
  {
   "cell_type": "code",
   "execution_count": 24,
   "metadata": {},
   "outputs": [],
   "source": [
    "pairs_200['en_translated'] = dfs['en_translated'].values"
   ]
  },
  {
   "cell_type": "code",
   "execution_count": 26,
   "metadata": {},
   "outputs": [
    {
     "data": {
      "text/plain": [
       "ar               0\n",
       "en               0\n",
       "tokens_ar        0\n",
       "en_translated    0\n",
       "dtype: int64"
      ]
     },
     "execution_count": 26,
     "metadata": {},
     "output_type": "execute_result"
    }
   ],
   "source": [
    "pairs_200.isna().sum()"
   ]
  },
  {
   "cell_type": "code",
   "execution_count": 27,
   "metadata": {},
   "outputs": [],
   "source": [
    "pairs_200.drop(columns=['tokens_ar'], inplace=True)"
   ]
  },
  {
   "cell_type": "code",
   "execution_count": 33,
   "metadata": {},
   "outputs": [
    {
     "data": {
      "text/html": [
       "<div>\n",
       "<style scoped>\n",
       "    .dataframe tbody tr th:only-of-type {\n",
       "        vertical-align: middle;\n",
       "    }\n",
       "\n",
       "    .dataframe tbody tr th {\n",
       "        vertical-align: top;\n",
       "    }\n",
       "\n",
       "    .dataframe thead th {\n",
       "        text-align: right;\n",
       "    }\n",
       "</style>\n",
       "<table border=\"1\" class=\"dataframe\">\n",
       "  <thead>\n",
       "    <tr style=\"text-align: right;\">\n",
       "      <th></th>\n",
       "      <th>ar</th>\n",
       "      <th>en</th>\n",
       "      <th>en_translated</th>\n",
       "    </tr>\n",
       "  </thead>\n",
       "  <tbody>\n",
       "    <tr>\n",
       "      <th>825511</th>\n",
       "      <td>(كريس وارين جونيور) بدور (زيكي بايلور) وهو صدي...</td>\n",
       "      <td>Chris Warren Jr. as Zeke Baylor, a friend of T...</td>\n",
       "      <td>(Chris Warren Jr.) as (Zeke Baylor), Troy's fr...</td>\n",
       "    </tr>\n",
       "    <tr>\n",
       "      <th>509901</th>\n",
       "      <td>وفي الخمسينات بدأ مور بتلقي طلبيات كثيرة على ن...</td>\n",
       "      <td>In the 1950s, Moore began to receive increasin...</td>\n",
       "      <td>In the 1950s, Moore began receiving increasing...</td>\n",
       "    </tr>\n",
       "    <tr>\n",
       "      <th>329640</th>\n",
       "      <td>كانت المحمية الممتدة في عام 1962 من خلال الإيج...</td>\n",
       "      <td>The reserve was extended in 1962 through the l...</td>\n",
       "      <td>The reserve was extended in 1962 by leasing th...</td>\n",
       "    </tr>\n",
       "    <tr>\n",
       "      <th>951505</th>\n",
       "      <td>عدد من المقالات.</td>\n",
       "      <td>Numerous articles.</td>\n",
       "      <td>Number of articles.</td>\n",
       "    </tr>\n",
       "    <tr>\n",
       "      <th>214219</th>\n",
       "      <td>ولمنع دوامة دينية صعودية مفرطة من اكتساب زخم، ...</td>\n",
       "      <td>To prevent a vicious upward debt spiral from g...</td>\n",
       "      <td>To prevent an excessive upward debt spiral fro...</td>\n",
       "    </tr>\n",
       "    <tr>\n",
       "      <th>338004</th>\n",
       "      <td>مجلس وزراء جوزيف غوبلز هو مجلس الوزراء الذي عي...</td>\n",
       "      <td>The Josef Goebbels Cabinet was named by Adolf ...</td>\n",
       "      <td>Joseph Goebbels's cabinet was the cabinet appo...</td>\n",
       "    </tr>\n",
       "    <tr>\n",
       "      <th>744845</th>\n",
       "      <td>خلال الحرب العالمية الأولى، كما حلقت كاثرين مس...</td>\n",
       "      <td>On December 11, 1917, Katherine Stinson flew 6...</td>\n",
       "      <td>During World War I, Catherine also flew 606 mi...</td>\n",
       "    </tr>\n",
       "    <tr>\n",
       "      <th>601857</th>\n",
       "      <td>في 22 مارس 2013، وافق البوندسرات على مبادرة اق...</td>\n",
       "      <td>On 22 March 2013, the Bundesrat passed an init...</td>\n",
       "      <td>On 22 March 2013, the Bundesrat approved an in...</td>\n",
       "    </tr>\n",
       "    <tr>\n",
       "      <th>674511</th>\n",
       "      <td>من الجدير بالملاحظة أن التحميل الزائد للمعاملا...</td>\n",
       "      <td>Overloading an operator does not change the pr...</td>\n",
       "      <td>It is worth noting that parameter overloading ...</td>\n",
       "    </tr>\n",
       "    <tr>\n",
       "      <th>829526</th>\n",
       "      <td>كان الأخ الأكبر للصحفي المحافظ والمؤلف بيتر هي...</td>\n",
       "      <td>He was the elder brother of the conservative j...</td>\n",
       "      <td>He was the older brother of conservative journ...</td>\n",
       "    </tr>\n",
       "  </tbody>\n",
       "</table>\n",
       "</div>"
      ],
      "text/plain": [
       "                                                       ar  \\\n",
       "825511  (كريس وارين جونيور) بدور (زيكي بايلور) وهو صدي...   \n",
       "509901  وفي الخمسينات بدأ مور بتلقي طلبيات كثيرة على ن...   \n",
       "329640  كانت المحمية الممتدة في عام 1962 من خلال الإيج...   \n",
       "951505                                  عدد من المقالات.    \n",
       "214219  ولمنع دوامة دينية صعودية مفرطة من اكتساب زخم، ...   \n",
       "338004  مجلس وزراء جوزيف غوبلز هو مجلس الوزراء الذي عي...   \n",
       "744845  خلال الحرب العالمية الأولى، كما حلقت كاثرين مس...   \n",
       "601857  في 22 مارس 2013، وافق البوندسرات على مبادرة اق...   \n",
       "674511  من الجدير بالملاحظة أن التحميل الزائد للمعاملا...   \n",
       "829526  كان الأخ الأكبر للصحفي المحافظ والمؤلف بيتر هي...   \n",
       "\n",
       "                                                       en  \\\n",
       "825511  Chris Warren Jr. as Zeke Baylor, a friend of T...   \n",
       "509901  In the 1950s, Moore began to receive increasin...   \n",
       "329640  The reserve was extended in 1962 through the l...   \n",
       "951505                                Numerous articles.    \n",
       "214219  To prevent a vicious upward debt spiral from g...   \n",
       "338004  The Josef Goebbels Cabinet was named by Adolf ...   \n",
       "744845  On December 11, 1917, Katherine Stinson flew 6...   \n",
       "601857  On 22 March 2013, the Bundesrat passed an init...   \n",
       "674511  Overloading an operator does not change the pr...   \n",
       "829526  He was the elder brother of the conservative j...   \n",
       "\n",
       "                                            en_translated  \n",
       "825511  (Chris Warren Jr.) as (Zeke Baylor), Troy's fr...  \n",
       "509901  In the 1950s, Moore began receiving increasing...  \n",
       "329640  The reserve was extended in 1962 by leasing th...  \n",
       "951505                                Number of articles.  \n",
       "214219  To prevent an excessive upward debt spiral fro...  \n",
       "338004  Joseph Goebbels's cabinet was the cabinet appo...  \n",
       "744845  During World War I, Catherine also flew 606 mi...  \n",
       "601857  On 22 March 2013, the Bundesrat approved an in...  \n",
       "674511  It is worth noting that parameter overloading ...  \n",
       "829526  He was the older brother of conservative journ...  "
      ]
     },
     "execution_count": 33,
     "metadata": {},
     "output_type": "execute_result"
    }
   ],
   "source": [
    "pairs_200.sample(10)"
   ]
  },
  {
   "cell_type": "code",
   "execution_count": 34,
   "metadata": {},
   "outputs": [],
   "source": [
    "pairs_200.to_parquet('data/ar-en-200-translated.parquet')"
   ]
  },
  {
   "cell_type": "code",
   "execution_count": null,
   "metadata": {},
   "outputs": [],
   "source": []
  }
 ],
 "metadata": {
  "kernelspec": {
   "display_name": "venv",
   "language": "python",
   "name": "python3"
  },
  "language_info": {
   "codemirror_mode": {
    "name": "ipython",
    "version": 3
   },
   "file_extension": ".py",
   "mimetype": "text/x-python",
   "name": "python",
   "nbconvert_exporter": "python",
   "pygments_lexer": "ipython3",
   "version": "3.11.3"
  }
 },
 "nbformat": 4,
 "nbformat_minor": 2
}
