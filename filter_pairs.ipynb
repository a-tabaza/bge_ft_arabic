{
 "cells": [
  {
   "cell_type": "code",
   "execution_count": 6,
   "metadata": {},
   "outputs": [],
   "source": [
    "import pandas as pd\n",
    "from tqdm import tqdm\n",
    "tqdm.pandas()"
   ]
  },
  {
   "cell_type": "code",
   "execution_count": 14,
   "metadata": {},
   "outputs": [],
   "source": [
    "import tiktoken\n",
    "import openai"
   ]
  },
  {
   "cell_type": "code",
   "execution_count": 2,
   "metadata": {},
   "outputs": [
    {
     "data": {
      "text/plain": [
       "True"
      ]
     },
     "execution_count": 2,
     "metadata": {},
     "output_type": "execute_result"
    }
   ],
   "source": [
    "from dotenv import load_dotenv\n",
    "import os\n",
    "load_dotenv()"
   ]
  },
  {
   "cell_type": "code",
   "execution_count": null,
   "metadata": {},
   "outputs": [],
   "source": [
    "openai.api_key = os.getenv('OPENAI_API_KEY')"
   ]
  },
  {
   "cell_type": "code",
   "execution_count": 4,
   "metadata": {},
   "outputs": [],
   "source": [
    "pairs = pd.read_parquet('data/ar-en.parquet')"
   ]
  },
  {
   "cell_type": "code",
   "execution_count": 11,
   "metadata": {},
   "outputs": [
    {
     "data": {
      "text/html": [
       "<div>\n",
       "<style scoped>\n",
       "    .dataframe tbody tr th:only-of-type {\n",
       "        vertical-align: middle;\n",
       "    }\n",
       "\n",
       "    .dataframe tbody tr th {\n",
       "        vertical-align: top;\n",
       "    }\n",
       "\n",
       "    .dataframe thead th {\n",
       "        text-align: right;\n",
       "    }\n",
       "</style>\n",
       "<table border=\"1\" class=\"dataframe\">\n",
       "  <thead>\n",
       "    <tr style=\"text-align: right;\">\n",
       "      <th></th>\n",
       "      <th>ar</th>\n",
       "      <th>en</th>\n",
       "    </tr>\n",
       "  </thead>\n",
       "  <tbody>\n",
       "    <tr>\n",
       "      <th>0</th>\n",
       "      <td>إلى ربها ناظرة: أي منتظرة لرحمته ودخول جنته.</td>\n",
       "      <td>He is sometimes seen having arguments with his...</td>\n",
       "    </tr>\n",
       "    <tr>\n",
       "      <th>1</th>\n",
       "      <td>في البداية حققوا بعض المكاسب بما في ذلك الاستي...</td>\n",
       "      <td>Initially, they made some gains, including cap...</td>\n",
       "    </tr>\n",
       "    <tr>\n",
       "      <th>2</th>\n",
       "      <td>الأدميرال هالسي (1944) يرتدي خوذة الألياف الأم...</td>\n",
       "      <td>Admiral Halsey (1944) wearing an American fibe...</td>\n",
       "    </tr>\n",
       "    <tr>\n",
       "      <th>3</th>\n",
       "      <td>عن \"رب العالمين\" سبحانه وتعالى.</td>\n",
       "      <td>Opsaridium ubangiense.</td>\n",
       "    </tr>\n",
       "    <tr>\n",
       "      <th>4</th>\n",
       "      <td>النّعيم : الذي ألهاكم عن طاعة ربكم .</td>\n",
       "      <td>Thus hath the Lord your God commanded you.</td>\n",
       "    </tr>\n",
       "    <tr>\n",
       "      <th>...</th>\n",
       "      <td>...</td>\n",
       "      <td>...</td>\n",
       "    </tr>\n",
       "    <tr>\n",
       "      <th>988974</th>\n",
       "      <td>بحيرة.</td>\n",
       "      <td>Jezioro.</td>\n",
       "    </tr>\n",
       "    <tr>\n",
       "      <th>988975</th>\n",
       "      <td>وتتم معظم هذه الأعمال في مدينة هاميلتون العاصمة.</td>\n",
       "      <td>Most of the city is in the Hamilton City Schoo...</td>\n",
       "    </tr>\n",
       "    <tr>\n",
       "      <th>988976</th>\n",
       "      <td>ومع تقدم الرواية يسمع جون حول مادة اسمها «الجل...</td>\n",
       "      <td>As the novel progresses, John learns of a subs...</td>\n",
       "    </tr>\n",
       "    <tr>\n",
       "      <th>988977</th>\n",
       "      <td>قامت بأداء أول سينيمائي لها عام 2002 أمام دنيس...</td>\n",
       "      <td>She made her film debut in 2002, opposite Denn...</td>\n",
       "    </tr>\n",
       "    <tr>\n",
       "      <th>988978</th>\n",
       "      <td>حزين كما الجحيم (15 قصة قصيرة).</td>\n",
       "      <td>The Great Return (1915) — short story.</td>\n",
       "    </tr>\n",
       "  </tbody>\n",
       "</table>\n",
       "<p>988979 rows × 2 columns</p>\n",
       "</div>"
      ],
      "text/plain": [
       "                                                       ar  \\\n",
       "0           إلى ربها ناظرة: أي منتظرة لرحمته ودخول جنته.    \n",
       "1       في البداية حققوا بعض المكاسب بما في ذلك الاستي...   \n",
       "2       الأدميرال هالسي (1944) يرتدي خوذة الألياف الأم...   \n",
       "3                        عن \"رب العالمين\" سبحانه وتعالى.    \n",
       "4                   النّعيم : الذي ألهاكم عن طاعة ربكم .    \n",
       "...                                                   ...   \n",
       "988974                                            بحيرة.    \n",
       "988975  وتتم معظم هذه الأعمال في مدينة هاميلتون العاصمة.    \n",
       "988976  ومع تقدم الرواية يسمع جون حول مادة اسمها «الجل...   \n",
       "988977  قامت بأداء أول سينيمائي لها عام 2002 أمام دنيس...   \n",
       "988978                   حزين كما الجحيم (15 قصة قصيرة).    \n",
       "\n",
       "                                                       en  \n",
       "0       He is sometimes seen having arguments with his...  \n",
       "1       Initially, they made some gains, including cap...  \n",
       "2       Admiral Halsey (1944) wearing an American fibe...  \n",
       "3                                 Opsaridium ubangiense.   \n",
       "4             Thus hath the Lord your God commanded you.   \n",
       "...                                                   ...  \n",
       "988974                                          Jezioro.   \n",
       "988975  Most of the city is in the Hamilton City Schoo...  \n",
       "988976  As the novel progresses, John learns of a subs...  \n",
       "988977  She made her film debut in 2002, opposite Denn...  \n",
       "988978            The Great Return (1915) — short story.   \n",
       "\n",
       "[988979 rows x 2 columns]"
      ]
     },
     "execution_count": 11,
     "metadata": {},
     "output_type": "execute_result"
    }
   ],
   "source": [
    "pairs"
   ]
  },
  {
   "cell_type": "code",
   "execution_count": 15,
   "metadata": {},
   "outputs": [],
   "source": [
    "encoding = tiktoken.encoding_for_model(\"gpt-3.5-turbo-instruct\")"
   ]
  },
  {
   "cell_type": "code",
   "execution_count": 21,
   "metadata": {},
   "outputs": [
    {
     "name": "stderr",
     "output_type": "stream",
     "text": [
      "100%|██████████| 988979/988979 [00:55<00:00, 17963.47it/s]\n"
     ]
    }
   ],
   "source": [
    "pairs['tokens_ar'] = pairs['ar'].progress_apply(lambda x: len(encoding.encode(x)))"
   ]
  },
  {
   "cell_type": "code",
   "execution_count": 20,
   "metadata": {},
   "outputs": [
    {
     "name": "stderr",
     "output_type": "stream",
     "text": [
      "100%|██████████| 988979/988979 [00:01<00:00, 848184.51it/s]\n"
     ]
    }
   ],
   "source": [
    "pairs['ar'] = pairs['ar'].progress_apply(lambda x: x.strip())"
   ]
  },
  {
   "cell_type": "code",
   "execution_count": 17,
   "metadata": {},
   "outputs": [
    {
     "data": {
      "text/plain": [
       "'إلى ربها ناظرة: أي منتظرة لرحمته ودخول جنته. '"
      ]
     },
     "execution_count": 17,
     "metadata": {},
     "output_type": "execute_result"
    }
   ],
   "source": [
    "pairs.iloc[0].ar"
   ]
  },
  {
   "cell_type": "code",
   "execution_count": 22,
   "metadata": {},
   "outputs": [
    {
     "data": {
      "text/plain": [
       "26116"
      ]
     },
     "execution_count": 22,
     "metadata": {},
     "output_type": "execute_result"
    }
   ],
   "source": [
    "max(pairs['tokens_ar'].values)"
   ]
  },
  {
   "cell_type": "code",
   "execution_count": 24,
   "metadata": {},
   "outputs": [],
   "source": [
    "pairs = pairs[pairs['tokens_ar'] < 4000]"
   ]
  },
  {
   "cell_type": "code",
   "execution_count": null,
   "metadata": {},
   "outputs": [],
   "source": [
    "# was just calculating how much it'd cost to run GPT on this dataset"
   ]
  },
  {
   "cell_type": "code",
   "execution_count": null,
   "metadata": {},
   "outputs": [],
   "source": [
    "(sum(pairs['tokens_ar'].values)/1000)*0.0001 # about 128$ if you're curious btw"
   ]
  },
  {
   "cell_type": "code",
   "execution_count": null,
   "metadata": {},
   "outputs": [],
   "source": []
  }
 ],
 "metadata": {
  "kernelspec": {
   "display_name": "venv",
   "language": "python",
   "name": "python3"
  },
  "language_info": {
   "codemirror_mode": {
    "name": "ipython",
    "version": 3
   },
   "file_extension": ".py",
   "mimetype": "text/x-python",
   "name": "python",
   "nbconvert_exporter": "python",
   "pygments_lexer": "ipython3",
   "version": "3.11.3"
  }
 },
 "nbformat": 4,
 "nbformat_minor": 2
}
