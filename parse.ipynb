{
 "cells": [
  {
   "cell_type": "code",
   "execution_count": 11,
   "metadata": {},
   "outputs": [],
   "source": [
    "from bs4 import BeautifulSoup\n",
    "from tqdm import tqdm\n",
    "import pandas as pd"
   ]
  },
  {
   "cell_type": "code",
   "execution_count": 3,
   "metadata": {},
   "outputs": [],
   "source": [
    "file = open(\"data/ar-en.tmx\", \"r\", encoding=\"UTF-8\")\n",
    "contents = file.read()"
   ]
  },
  {
   "cell_type": "code",
   "execution_count": 4,
   "metadata": {},
   "outputs": [],
   "source": [
    "soup = BeautifulSoup(contents, 'xml')"
   ]
  },
  {
   "cell_type": "code",
   "execution_count": 5,
   "metadata": {},
   "outputs": [],
   "source": [
    "tu = soup.find_all('tu')"
   ]
  },
  {
   "cell_type": "code",
   "execution_count": 6,
   "metadata": {},
   "outputs": [],
   "source": [
    "# e.g. of arabic and english pair\n",
    "    # <tu>\n",
    "    #   <tuv xml:lang=\"ar\"><seg>2) #40, على الرغم من أنه يمكن أن ينظر إلى إصلاحه بعد ذلك. </seg></tuv>\n",
    "    #   <tuv xml:lang=\"en\"><seg>2) #40, though he can be seen reforming afterward. </seg></tuv>\n",
    "    # </tu>"
   ]
  },
  {
   "cell_type": "code",
   "execution_count": 10,
   "metadata": {},
   "outputs": [
    {
     "name": "stderr",
     "output_type": "stream",
     "text": [
      "  0%|          | 0/999763 [00:00<?, ?it/s]"
     ]
    },
    {
     "name": "stderr",
     "output_type": "stream",
     "text": [
      "100%|██████████| 999763/999763 [00:52<00:00, 18943.63it/s]\n"
     ]
    }
   ],
   "source": [
    "# get pairs\n",
    "pairs = []\n",
    "for t in tqdm(tu):\n",
    "    ar = t.find('tuv', {'xml:lang': 'ar'}).find('seg').text\n",
    "    en = t.find('tuv', {'xml:lang': 'en'}).find('seg').text\n",
    "    pairs.append((ar, en))"
   ]
  },
  {
   "cell_type": "code",
   "execution_count": 12,
   "metadata": {},
   "outputs": [],
   "source": [
    "df = pd.DataFrame(pairs, columns=['ar', 'en'])"
   ]
  },
  {
   "cell_type": "code",
   "execution_count": 13,
   "metadata": {},
   "outputs": [
    {
     "data": {
      "text/html": [
       "<div>\n",
       "<style scoped>\n",
       "    .dataframe tbody tr th:only-of-type {\n",
       "        vertical-align: middle;\n",
       "    }\n",
       "\n",
       "    .dataframe tbody tr th {\n",
       "        vertical-align: top;\n",
       "    }\n",
       "\n",
       "    .dataframe thead th {\n",
       "        text-align: right;\n",
       "    }\n",
       "</style>\n",
       "<table border=\"1\" class=\"dataframe\">\n",
       "  <thead>\n",
       "    <tr style=\"text-align: right;\">\n",
       "      <th></th>\n",
       "      <th>ar</th>\n",
       "      <th>en</th>\n",
       "    </tr>\n",
       "  </thead>\n",
       "  <tbody>\n",
       "    <tr>\n",
       "      <th>0</th>\n",
       "      <td>إلى ربها ناظرة: أي منتظرة لرحمته ودخول جنته.</td>\n",
       "      <td>He is sometimes seen having arguments with his...</td>\n",
       "    </tr>\n",
       "    <tr>\n",
       "      <th>1</th>\n",
       "      <td>في البداية حققوا بعض المكاسب بما في ذلك الاستي...</td>\n",
       "      <td>Initially, they made some gains, including cap...</td>\n",
       "    </tr>\n",
       "    <tr>\n",
       "      <th>2</th>\n",
       "      <td>الأدميرال هالسي (1944) يرتدي خوذة الألياف الأم...</td>\n",
       "      <td>Admiral Halsey (1944) wearing an American fibe...</td>\n",
       "    </tr>\n",
       "    <tr>\n",
       "      <th>3</th>\n",
       "      <td>اطلع عليه بتاريخ 24 أبريل 2011. Yemen deal may...</td>\n",
       "      <td>Yemen deal may be done within week: officials.</td>\n",
       "    </tr>\n",
       "    <tr>\n",
       "      <th>4</th>\n",
       "      <td>عن \"رب العالمين\" سبحانه وتعالى.</td>\n",
       "      <td>Opsaridium ubangiense.</td>\n",
       "    </tr>\n",
       "    <tr>\n",
       "      <th>...</th>\n",
       "      <td>...</td>\n",
       "      <td>...</td>\n",
       "    </tr>\n",
       "    <tr>\n",
       "      <th>999758</th>\n",
       "      <td>وتتم معظم هذه الأعمال في مدينة هاميلتون العاصمة.</td>\n",
       "      <td>Most of the city is in the Hamilton City Schoo...</td>\n",
       "    </tr>\n",
       "    <tr>\n",
       "      <th>999759</th>\n",
       "      <td>ومع تقدم الرواية يسمع جون حول مادة اسمها «الجل...</td>\n",
       "      <td>As the novel progresses, John learns of a subs...</td>\n",
       "    </tr>\n",
       "    <tr>\n",
       "      <th>999760</th>\n",
       "      <td>قامت بأداء أول سينيمائي لها عام 2002 أمام دنيس...</td>\n",
       "      <td>She made her film debut in 2002, opposite Denn...</td>\n",
       "    </tr>\n",
       "    <tr>\n",
       "      <th>999761</th>\n",
       "      <td>حزين كما الجحيم (15 قصة قصيرة).</td>\n",
       "      <td>The Great Return (1915) — short story.</td>\n",
       "    </tr>\n",
       "    <tr>\n",
       "      <th>999762</th>\n",
       "      <td></td>\n",
       "      <td></td>\n",
       "    </tr>\n",
       "  </tbody>\n",
       "</table>\n",
       "<p>999763 rows × 2 columns</p>\n",
       "</div>"
      ],
      "text/plain": [
       "                                                       ar  \\\n",
       "0           إلى ربها ناظرة: أي منتظرة لرحمته ودخول جنته.    \n",
       "1       في البداية حققوا بعض المكاسب بما في ذلك الاستي...   \n",
       "2       الأدميرال هالسي (1944) يرتدي خوذة الألياف الأم...   \n",
       "3       اطلع عليه بتاريخ 24 أبريل 2011. Yemen deal may...   \n",
       "4                        عن \"رب العالمين\" سبحانه وتعالى.    \n",
       "...                                                   ...   \n",
       "999758  وتتم معظم هذه الأعمال في مدينة هاميلتون العاصمة.    \n",
       "999759  ومع تقدم الرواية يسمع جون حول مادة اسمها «الجل...   \n",
       "999760  قامت بأداء أول سينيمائي لها عام 2002 أمام دنيس...   \n",
       "999761                   حزين كما الجحيم (15 قصة قصيرة).    \n",
       "999762                                                      \n",
       "\n",
       "                                                       en  \n",
       "0       He is sometimes seen having arguments with his...  \n",
       "1       Initially, they made some gains, including cap...  \n",
       "2       Admiral Halsey (1944) wearing an American fibe...  \n",
       "3         Yemen deal may be done within week: officials.   \n",
       "4                                 Opsaridium ubangiense.   \n",
       "...                                                   ...  \n",
       "999758  Most of the city is in the Hamilton City Schoo...  \n",
       "999759  As the novel progresses, John learns of a subs...  \n",
       "999760  She made her film debut in 2002, opposite Denn...  \n",
       "999761            The Great Return (1915) — short story.   \n",
       "999762                                                     \n",
       "\n",
       "[999763 rows x 2 columns]"
      ]
     },
     "execution_count": 13,
     "metadata": {},
     "output_type": "execute_result"
    }
   ],
   "source": [
    "df"
   ]
  },
  {
   "cell_type": "code",
   "execution_count": 14,
   "metadata": {},
   "outputs": [],
   "source": [
    "# filter pairs where the arabic text is equal to the english text or vice versa\n",
    "df = df[df['ar'] != df['en']]"
   ]
  },
  {
   "cell_type": "code",
   "execution_count": 16,
   "metadata": {},
   "outputs": [],
   "source": [
    "duplicates = []\n",
    "for pair in df.itertuples():\n",
    "    if pair.ar == pair.en:\n",
    "        duplicates.append(pair.Index)\n",
    "    if pair.en == pair.ar:\n",
    "        duplicates.append(pair.Index)\n",
    "    if pair.ar in pair.en:\n",
    "        duplicates.append(pair.Index)\n",
    "    if pair.en in pair.ar:\n",
    "        duplicates.append(pair.Index)\n"
   ]
  },
  {
   "cell_type": "code",
   "execution_count": 17,
   "metadata": {},
   "outputs": [],
   "source": [
    "duplicates = list(set(duplicates))"
   ]
  },
  {
   "cell_type": "code",
   "execution_count": 18,
   "metadata": {},
   "outputs": [
    {
     "data": {
      "text/plain": [
       "10393"
      ]
     },
     "execution_count": 18,
     "metadata": {},
     "output_type": "execute_result"
    }
   ],
   "source": [
    "len(duplicates)"
   ]
  },
  {
   "cell_type": "code",
   "execution_count": 19,
   "metadata": {},
   "outputs": [
    {
     "data": {
      "text/plain": [
       "(988979, 2)"
      ]
     },
     "execution_count": 19,
     "metadata": {},
     "output_type": "execute_result"
    }
   ],
   "source": [
    "df = df.drop(duplicates)\n",
    "df.shape"
   ]
  },
  {
   "cell_type": "code",
   "execution_count": 20,
   "metadata": {},
   "outputs": [],
   "source": [
    "dedup = df.drop_duplicates(subset=['ar', 'en'])"
   ]
  },
  {
   "cell_type": "code",
   "execution_count": 23,
   "metadata": {},
   "outputs": [],
   "source": [
    "dedup.to_parquet('ar-en.parquet', index=False)"
   ]
  },
  {
   "cell_type": "code",
   "execution_count": 24,
   "metadata": {},
   "outputs": [
    {
     "data": {
      "text/html": [
       "<div>\n",
       "<style scoped>\n",
       "    .dataframe tbody tr th:only-of-type {\n",
       "        vertical-align: middle;\n",
       "    }\n",
       "\n",
       "    .dataframe tbody tr th {\n",
       "        vertical-align: top;\n",
       "    }\n",
       "\n",
       "    .dataframe thead th {\n",
       "        text-align: right;\n",
       "    }\n",
       "</style>\n",
       "<table border=\"1\" class=\"dataframe\">\n",
       "  <thead>\n",
       "    <tr style=\"text-align: right;\">\n",
       "      <th></th>\n",
       "      <th>ar</th>\n",
       "      <th>en</th>\n",
       "    </tr>\n",
       "  </thead>\n",
       "  <tbody>\n",
       "    <tr>\n",
       "      <th>0</th>\n",
       "      <td>إلى ربها ناظرة: أي منتظرة لرحمته ودخول جنته.</td>\n",
       "      <td>He is sometimes seen having arguments with his...</td>\n",
       "    </tr>\n",
       "    <tr>\n",
       "      <th>1</th>\n",
       "      <td>في البداية حققوا بعض المكاسب بما في ذلك الاستي...</td>\n",
       "      <td>Initially, they made some gains, including cap...</td>\n",
       "    </tr>\n",
       "    <tr>\n",
       "      <th>2</th>\n",
       "      <td>الأدميرال هالسي (1944) يرتدي خوذة الألياف الأم...</td>\n",
       "      <td>Admiral Halsey (1944) wearing an American fibe...</td>\n",
       "    </tr>\n",
       "    <tr>\n",
       "      <th>4</th>\n",
       "      <td>عن \"رب العالمين\" سبحانه وتعالى.</td>\n",
       "      <td>Opsaridium ubangiense.</td>\n",
       "    </tr>\n",
       "    <tr>\n",
       "      <th>5</th>\n",
       "      <td>النّعيم : الذي ألهاكم عن طاعة ربكم .</td>\n",
       "      <td>Thus hath the Lord your God commanded you.</td>\n",
       "    </tr>\n",
       "  </tbody>\n",
       "</table>\n",
       "</div>"
      ],
      "text/plain": [
       "                                                  ar  \\\n",
       "0      إلى ربها ناظرة: أي منتظرة لرحمته ودخول جنته.    \n",
       "1  في البداية حققوا بعض المكاسب بما في ذلك الاستي...   \n",
       "2  الأدميرال هالسي (1944) يرتدي خوذة الألياف الأم...   \n",
       "4                   عن \"رب العالمين\" سبحانه وتعالى.    \n",
       "5              النّعيم : الذي ألهاكم عن طاعة ربكم .    \n",
       "\n",
       "                                                  en  \n",
       "0  He is sometimes seen having arguments with his...  \n",
       "1  Initially, they made some gains, including cap...  \n",
       "2  Admiral Halsey (1944) wearing an American fibe...  \n",
       "4                            Opsaridium ubangiense.   \n",
       "5        Thus hath the Lord your God commanded you.   "
      ]
     },
     "execution_count": 24,
     "metadata": {},
     "output_type": "execute_result"
    }
   ],
   "source": [
    "dedup.head(5)"
   ]
  },
  {
   "cell_type": "code",
   "execution_count": null,
   "metadata": {},
   "outputs": [],
   "source": []
  }
 ],
 "metadata": {
  "kernelspec": {
   "display_name": "venv",
   "language": "python",
   "name": "python3"
  },
  "language_info": {
   "codemirror_mode": {
    "name": "ipython",
    "version": 3
   },
   "file_extension": ".py",
   "mimetype": "text/x-python",
   "name": "python",
   "nbconvert_exporter": "python",
   "pygments_lexer": "ipython3",
   "version": "3.11.3"
  }
 },
 "nbformat": 4,
 "nbformat_minor": 2
}
